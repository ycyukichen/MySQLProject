{
 "cells": [
  {
   "cell_type": "code",
   "execution_count": 2,
   "metadata": {},
   "outputs": [
    {
     "name": "stdout",
     "output_type": "stream",
     "text": [
      "Database connection successful!\n"
     ]
    }
   ],
   "source": [
    "import pymysql\n",
    "import os\n",
    "\n",
    "connection = pymysql.connect(\n",
    "    host='localhost',\n",
    "    user='root',\n",
    "    password= 'YOURPASSWOED', \n",
    "    database=\"new_database\",\n",
    "    port=3306\n",
    ")\n",
    "\n",
    "print(\"Database connection successful!\")"
   ]
  },
  {
   "cell_type": "code",
   "execution_count": 3,
   "metadata": {},
   "outputs": [],
   "source": [
    "cursor = connection.cursor()"
   ]
  },
  {
   "cell_type": "code",
   "execution_count": 7,
   "metadata": {},
   "outputs": [
    {
     "name": "stdout",
     "output_type": "stream",
     "text": [
      "Table created successfully!\n"
     ]
    }
   ],
   "source": [
    "# Create a table\n",
    "create_table_query = \"\"\"\n",
    "CREATE TABLE employees (\n",
    "    employee_id INT AUTO_INCREMENT PRIMARY KEY,\n",
    "    first_name VARCHAR(50) NOT NULL,\n",
    "    last_name VARCHAR(50) NOT NULL,\n",
    "    email VARCHAR(100) NOT NULL UNIQUE,\n",
    "    date_of_birth DATE NOT NULL,\n",
    "    salary DECIMAL(10, 2) NOT NULL\n",
    ")\n",
    "\"\"\"\n",
    "\n",
    "cursor.execute(create_table_query)\n",
    "connection.commit() \n",
    "print(\"Table created successfully!\")"
   ]
  },
  {
   "cell_type": "code",
   "execution_count": 11,
   "metadata": {},
   "outputs": [
    {
     "ename": "IntegrityError",
     "evalue": "(1062, \"Duplicate entry 'john.doe@example.com' for key 'employees.email'\")",
     "output_type": "error",
     "traceback": [
      "\u001b[0;31m---------------------------------------------------------------------------\u001b[0m",
      "\u001b[0;31mIntegrityError\u001b[0m                            Traceback (most recent call last)",
      "Cell \u001b[0;32mIn[11], line 8\u001b[0m\n\u001b[1;32m      1\u001b[0m insert_query \u001b[38;5;241m=\u001b[39m \u001b[38;5;124m\"\"\"\u001b[39m\n\u001b[1;32m      2\u001b[0m \u001b[38;5;124mINSERT INTO employees (first_name, last_name, email, date_of_birth, salary) \u001b[39m\n\u001b[1;32m      3\u001b[0m \u001b[38;5;124mVALUES (\u001b[39m\u001b[38;5;132;01m%s\u001b[39;00m\u001b[38;5;124m, \u001b[39m\u001b[38;5;132;01m%s\u001b[39;00m\u001b[38;5;124m, \u001b[39m\u001b[38;5;132;01m%s\u001b[39;00m\u001b[38;5;124m, \u001b[39m\u001b[38;5;132;01m%s\u001b[39;00m\u001b[38;5;124m, \u001b[39m\u001b[38;5;132;01m%s\u001b[39;00m\u001b[38;5;124m);\u001b[39m\n\u001b[1;32m      4\u001b[0m \u001b[38;5;124m\"\"\"\u001b[39m\n\u001b[1;32m      6\u001b[0m data \u001b[38;5;241m=\u001b[39m (\u001b[38;5;124m'\u001b[39m\u001b[38;5;124mJohn\u001b[39m\u001b[38;5;124m'\u001b[39m, \u001b[38;5;124m'\u001b[39m\u001b[38;5;124mDoe\u001b[39m\u001b[38;5;124m'\u001b[39m, \u001b[38;5;124m'\u001b[39m\u001b[38;5;124mjohn.doe@example.com\u001b[39m\u001b[38;5;124m'\u001b[39m, \u001b[38;5;124m'\u001b[39m\u001b[38;5;124m1985-03-25\u001b[39m\u001b[38;5;124m'\u001b[39m, \u001b[38;5;241m50000.00\u001b[39m)\n\u001b[0;32m----> 8\u001b[0m cursor\u001b[38;5;241m.\u001b[39mexecute(insert_query, data)\n\u001b[1;32m      9\u001b[0m connection\u001b[38;5;241m.\u001b[39mcommit()  \n\u001b[1;32m     10\u001b[0m \u001b[38;5;28mprint\u001b[39m(\u001b[38;5;124m\"\u001b[39m\u001b[38;5;124mData inserted successfully!\u001b[39m\u001b[38;5;124m\"\u001b[39m)\n",
      "File \u001b[0;32m~/anaconda3/lib/python3.11/site-packages/pymysql/cursors.py:153\u001b[0m, in \u001b[0;36mCursor.execute\u001b[0;34m(self, query, args)\u001b[0m\n\u001b[1;32m    149\u001b[0m     \u001b[38;5;28;01mpass\u001b[39;00m\n\u001b[1;32m    151\u001b[0m query \u001b[38;5;241m=\u001b[39m \u001b[38;5;28mself\u001b[39m\u001b[38;5;241m.\u001b[39mmogrify(query, args)\n\u001b[0;32m--> 153\u001b[0m result \u001b[38;5;241m=\u001b[39m \u001b[38;5;28mself\u001b[39m\u001b[38;5;241m.\u001b[39m_query(query)\n\u001b[1;32m    154\u001b[0m \u001b[38;5;28mself\u001b[39m\u001b[38;5;241m.\u001b[39m_executed \u001b[38;5;241m=\u001b[39m query\n\u001b[1;32m    155\u001b[0m \u001b[38;5;28;01mreturn\u001b[39;00m result\n",
      "File \u001b[0;32m~/anaconda3/lib/python3.11/site-packages/pymysql/cursors.py:322\u001b[0m, in \u001b[0;36mCursor._query\u001b[0;34m(self, q)\u001b[0m\n\u001b[1;32m    320\u001b[0m conn \u001b[38;5;241m=\u001b[39m \u001b[38;5;28mself\u001b[39m\u001b[38;5;241m.\u001b[39m_get_db()\n\u001b[1;32m    321\u001b[0m \u001b[38;5;28mself\u001b[39m\u001b[38;5;241m.\u001b[39m_clear_result()\n\u001b[0;32m--> 322\u001b[0m conn\u001b[38;5;241m.\u001b[39mquery(q)\n\u001b[1;32m    323\u001b[0m \u001b[38;5;28mself\u001b[39m\u001b[38;5;241m.\u001b[39m_do_get_result()\n\u001b[1;32m    324\u001b[0m \u001b[38;5;28;01mreturn\u001b[39;00m \u001b[38;5;28mself\u001b[39m\u001b[38;5;241m.\u001b[39mrowcount\n",
      "File \u001b[0;32m~/anaconda3/lib/python3.11/site-packages/pymysql/connections.py:563\u001b[0m, in \u001b[0;36mConnection.query\u001b[0;34m(self, sql, unbuffered)\u001b[0m\n\u001b[1;32m    561\u001b[0m     sql \u001b[38;5;241m=\u001b[39m sql\u001b[38;5;241m.\u001b[39mencode(\u001b[38;5;28mself\u001b[39m\u001b[38;5;241m.\u001b[39mencoding, \u001b[38;5;124m\"\u001b[39m\u001b[38;5;124msurrogateescape\u001b[39m\u001b[38;5;124m\"\u001b[39m)\n\u001b[1;32m    562\u001b[0m \u001b[38;5;28mself\u001b[39m\u001b[38;5;241m.\u001b[39m_execute_command(COMMAND\u001b[38;5;241m.\u001b[39mCOM_QUERY, sql)\n\u001b[0;32m--> 563\u001b[0m \u001b[38;5;28mself\u001b[39m\u001b[38;5;241m.\u001b[39m_affected_rows \u001b[38;5;241m=\u001b[39m \u001b[38;5;28mself\u001b[39m\u001b[38;5;241m.\u001b[39m_read_query_result(unbuffered\u001b[38;5;241m=\u001b[39munbuffered)\n\u001b[1;32m    564\u001b[0m \u001b[38;5;28;01mreturn\u001b[39;00m \u001b[38;5;28mself\u001b[39m\u001b[38;5;241m.\u001b[39m_affected_rows\n",
      "File \u001b[0;32m~/anaconda3/lib/python3.11/site-packages/pymysql/connections.py:825\u001b[0m, in \u001b[0;36mConnection._read_query_result\u001b[0;34m(self, unbuffered)\u001b[0m\n\u001b[1;32m    823\u001b[0m \u001b[38;5;28;01melse\u001b[39;00m:\n\u001b[1;32m    824\u001b[0m     result \u001b[38;5;241m=\u001b[39m MySQLResult(\u001b[38;5;28mself\u001b[39m)\n\u001b[0;32m--> 825\u001b[0m     result\u001b[38;5;241m.\u001b[39mread()\n\u001b[1;32m    826\u001b[0m \u001b[38;5;28mself\u001b[39m\u001b[38;5;241m.\u001b[39m_result \u001b[38;5;241m=\u001b[39m result\n\u001b[1;32m    827\u001b[0m \u001b[38;5;28;01mif\u001b[39;00m result\u001b[38;5;241m.\u001b[39mserver_status \u001b[38;5;129;01mis\u001b[39;00m \u001b[38;5;129;01mnot\u001b[39;00m \u001b[38;5;28;01mNone\u001b[39;00m:\n",
      "File \u001b[0;32m~/anaconda3/lib/python3.11/site-packages/pymysql/connections.py:1199\u001b[0m, in \u001b[0;36mMySQLResult.read\u001b[0;34m(self)\u001b[0m\n\u001b[1;32m   1197\u001b[0m \u001b[38;5;28;01mdef\u001b[39;00m \u001b[38;5;21mread\u001b[39m(\u001b[38;5;28mself\u001b[39m):\n\u001b[1;32m   1198\u001b[0m     \u001b[38;5;28;01mtry\u001b[39;00m:\n\u001b[0;32m-> 1199\u001b[0m         first_packet \u001b[38;5;241m=\u001b[39m \u001b[38;5;28mself\u001b[39m\u001b[38;5;241m.\u001b[39mconnection\u001b[38;5;241m.\u001b[39m_read_packet()\n\u001b[1;32m   1201\u001b[0m         \u001b[38;5;28;01mif\u001b[39;00m first_packet\u001b[38;5;241m.\u001b[39mis_ok_packet():\n\u001b[1;32m   1202\u001b[0m             \u001b[38;5;28mself\u001b[39m\u001b[38;5;241m.\u001b[39m_read_ok_packet(first_packet)\n",
      "File \u001b[0;32m~/anaconda3/lib/python3.11/site-packages/pymysql/connections.py:775\u001b[0m, in \u001b[0;36mConnection._read_packet\u001b[0;34m(self, packet_type)\u001b[0m\n\u001b[1;32m    773\u001b[0m     \u001b[38;5;28;01mif\u001b[39;00m \u001b[38;5;28mself\u001b[39m\u001b[38;5;241m.\u001b[39m_result \u001b[38;5;129;01mis\u001b[39;00m \u001b[38;5;129;01mnot\u001b[39;00m \u001b[38;5;28;01mNone\u001b[39;00m \u001b[38;5;129;01mand\u001b[39;00m \u001b[38;5;28mself\u001b[39m\u001b[38;5;241m.\u001b[39m_result\u001b[38;5;241m.\u001b[39munbuffered_active \u001b[38;5;129;01mis\u001b[39;00m \u001b[38;5;28;01mTrue\u001b[39;00m:\n\u001b[1;32m    774\u001b[0m         \u001b[38;5;28mself\u001b[39m\u001b[38;5;241m.\u001b[39m_result\u001b[38;5;241m.\u001b[39munbuffered_active \u001b[38;5;241m=\u001b[39m \u001b[38;5;28;01mFalse\u001b[39;00m\n\u001b[0;32m--> 775\u001b[0m     packet\u001b[38;5;241m.\u001b[39mraise_for_error()\n\u001b[1;32m    776\u001b[0m \u001b[38;5;28;01mreturn\u001b[39;00m packet\n",
      "File \u001b[0;32m~/anaconda3/lib/python3.11/site-packages/pymysql/protocol.py:219\u001b[0m, in \u001b[0;36mMysqlPacket.raise_for_error\u001b[0;34m(self)\u001b[0m\n\u001b[1;32m    217\u001b[0m \u001b[38;5;28;01mif\u001b[39;00m DEBUG:\n\u001b[1;32m    218\u001b[0m     \u001b[38;5;28mprint\u001b[39m(\u001b[38;5;124m\"\u001b[39m\u001b[38;5;124merrno =\u001b[39m\u001b[38;5;124m\"\u001b[39m, errno)\n\u001b[0;32m--> 219\u001b[0m err\u001b[38;5;241m.\u001b[39mraise_mysql_exception(\u001b[38;5;28mself\u001b[39m\u001b[38;5;241m.\u001b[39m_data)\n",
      "File \u001b[0;32m~/anaconda3/lib/python3.11/site-packages/pymysql/err.py:150\u001b[0m, in \u001b[0;36mraise_mysql_exception\u001b[0;34m(data)\u001b[0m\n\u001b[1;32m    148\u001b[0m \u001b[38;5;28;01mif\u001b[39;00m errorclass \u001b[38;5;129;01mis\u001b[39;00m \u001b[38;5;28;01mNone\u001b[39;00m:\n\u001b[1;32m    149\u001b[0m     errorclass \u001b[38;5;241m=\u001b[39m InternalError \u001b[38;5;28;01mif\u001b[39;00m errno \u001b[38;5;241m<\u001b[39m \u001b[38;5;241m1000\u001b[39m \u001b[38;5;28;01melse\u001b[39;00m OperationalError\n\u001b[0;32m--> 150\u001b[0m \u001b[38;5;28;01mraise\u001b[39;00m errorclass(errno, errval)\n",
      "\u001b[0;31mIntegrityError\u001b[0m: (1062, \"Duplicate entry 'john.doe@example.com' for key 'employees.email'\")"
     ]
    }
   ],
   "source": [
    "insert_query = \"\"\"\n",
    "INSERT INTO employees (first_name, last_name, email, date_of_birth, salary) \n",
    "VALUES (%s, %s, %s, %s, %s);\n",
    "\"\"\"\n",
    "\n",
    "data = ('John', 'Doe', 'john.doe@example.com', '1985-03-25', 50000.00)\n",
    "\n",
    "cursor.execute(insert_query, data)\n",
    "connection.commit()  \n",
    "print(\"Data inserted successfully!\")"
   ]
  },
  {
   "cell_type": "code",
   "execution_count": 12,
   "metadata": {},
   "outputs": [
    {
     "name": "stdout",
     "output_type": "stream",
     "text": [
      "Multiple data inserted successfully!\n"
     ]
    }
   ],
   "source": [
    "data_to_insert = [\n",
    "    ('Jane', 'Doe', 'jane.doe@example.com', '1990-07-15', 55000.00),\n",
    "    ('Alice', 'Johnson', 'alice.johnson@example.com', '1982-11-05', 62000.00)\n",
    "]\n",
    "\n",
    "cursor.executemany(insert_query, data_to_insert)\n",
    "connection.commit()\n",
    "print(\"Multiple data inserted successfully!\")"
   ]
  },
  {
   "cell_type": "code",
   "execution_count": 13,
   "metadata": {},
   "outputs": [],
   "source": [
    "cursor.close()\n",
    "connection.close()"
   ]
  },
  {
   "cell_type": "code",
   "execution_count": 1,
   "metadata": {},
   "outputs": [],
   "source": [
    "import pymysql\n",
    "import pandas as pd\n",
    "import logging\n",
    "from typing import Any, Dict, List, Optional\n",
    "\n",
    "logging.basicConfig(level=logging.INFO)\n",
    "logger = logging.getLogger(__name__)\n",
    "\n",
    "class mysql_crud_operations:\n",
    "    def __init__(self):\n",
    "        self.host = os.getenv('DB_HOST')\n",
    "        self.user = os.getenv('DB_USER')\n",
    "        self.password = os.getenv('DB_PASSWORD')\n",
    "        self.database = os.getenv('DB_NAME')\n",
    "        self.port = int(os.getenv('DB_PORT', 3306))\n",
    "        self.use_ssl = os.getenv('USE_SSL', 'False') == 'True'\n",
    "        self.ssl_ca = os.getenv('SSL_CA', None)\n",
    "\n",
    "    def create_connection(self):\n",
    "        ssl_settings = {'ca': self.ssl_ca} if self.use_ssl else None\n",
    "        try:\n",
    "            connection = pymysql.connect(\n",
    "                host=self.host,\n",
    "                user=self.user,\n",
    "                passwd=self.password,\n",
    "                db=self.database,\n",
    "                port=self.port,\n",
    "                charset='utf8mb4',\n",
    "                cursorclass=pymysql.cursors.DictCursor,\n",
    "                ssl=ssl_settings\n",
    "            )\n",
    "            logger.info(\"Database connection successful!\")\n",
    "            return connection\n",
    "        except pymysql.Error as e:\n",
    "            logger.error(f\"Error connecting to the database: {e}\")\n",
    "\n",
    "    def execute_query(self, query: str, params: Optional[List[Any]] = None) -> None:\n",
    "        connection = self.create_connection()\n",
    "        if connection is not None:\n",
    "            try:\n",
    "                cursor = connection.cursor()\n",
    "                cursor.execute(query, params)\n",
    "                connection.commit()\n",
    "            except pymysql.Error as e:\n",
    "                logger.error(f\"An error occurred: {e}\")\n",
    "            finally:\n",
    "                cursor.close()\n",
    "                connection.close()\n",
    "\n",
    "    def insert_record(self, table_name: str, data: Dict[str, Any]) -> None:\n",
    "        keys = \", \".join(data.keys())\n",
    "        values = tuple(data.values())\n",
    "        placeholders = \", \".join([\"%s\"] * len(data))\n",
    "        query = f\"INSERT INTO {table_name} ({keys}) VALUES ({placeholders})\"\n",
    "        self.execute_query(query, values)\n",
    "\n",
    "    def find_all_records(self, table_name: str) -> None:\n",
    "        query = f\"SELECT * FROM {table_name}\"\n",
    "        connection = self.create_connection()\n",
    "        if connection is not None:\n",
    "            try:\n",
    "                cursor = connection.cursor()\n",
    "                cursor.execute(query)\n",
    "                records = cursor.fetchall()\n",
    "                for record in records:\n",
    "                    logger.info(record)\n",
    "            finally:\n",
    "                cursor.close()\n",
    "                connection.close()\n",
    "\n",
    "    def find_records(self, table_name: str, conditions: Dict[str, Any]) -> None:\n",
    "        condition_strings = \" AND \".join([f\"{k} = %s\" for k in conditions.keys()])\n",
    "        values = tuple(conditions.values())\n",
    "        query = f\"SELECT * FROM {table_name} WHERE {condition_strings}\"\n",
    "        self.execute_query(query, values)\n",
    "\n",
    "    def update_records(self, table_name: str, data: Dict[str, Any], conditions: Dict[str, Any]) -> None:\n",
    "        set_clause = \", \".join([f\"{key} = %s\" for key in data.keys()])\n",
    "        condition_clause = \" AND \".join([f\"{key} = %s\" for key in conditions.keys()])\n",
    "        query = f\"UPDATE {table_name} SET {set_clause} WHERE {condition_clause}\"\n",
    "        values = list(data.values()) + list(conditions.values())\n",
    "        self.execute_query(query, values)\n",
    "\n",
    "    def delete_records(self, table_name: str, conditions: Dict[str, Any]) -> None:\n",
    "        condition_clause = \" AND \".join([f\"{key} = %s\" for key in conditions.keys()])\n",
    "        query = f\"DELETE FROM {table_name} WHERE {condition_clause}\"\n",
    "        values = tuple(conditions.values())\n",
    "        self.execute_query(query, values)\n",
    "\n",
    "    def insert_in_bulk(self, datafile: str, table_name: str) -> None:\n",
    "        if datafile.endswith(\".csv\"):\n",
    "            data = pd.read_csv(datafile)\n",
    "        elif datafile.endswith(\".xlsx\"):\n",
    "            data = pd.read_excel(datafile)\n",
    "        \n",
    "        records = data.to_dict(orient='records')\n",
    "        for record in records:\n",
    "            self.insert_record(table_name, record)"
   ]
  }
 ],
 "metadata": {
  "kernelspec": {
   "display_name": "Python 3",
   "language": "python",
   "name": "python3"
  },
  "language_info": {
   "codemirror_mode": {
    "name": "ipython",
    "version": 3
   },
   "file_extension": ".py",
   "mimetype": "text/x-python",
   "name": "python",
   "nbconvert_exporter": "python",
   "pygments_lexer": "ipython3",
   "version": "3.11.4"
  }
 },
 "nbformat": 4,
 "nbformat_minor": 2
}
