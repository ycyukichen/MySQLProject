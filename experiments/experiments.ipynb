{
 "cells": [
  {
   "cell_type": "code",
   "execution_count": 8,
   "metadata": {},
   "outputs": [
    {
     "name": "stdout",
     "output_type": "stream",
     "text": [
      "Database connection successful!\n"
     ]
    }
   ],
   "source": [
    "import pymysql\n",
    "\n",
    "timeout = 10\n",
    "connection = pymysql.connect(\n",
    "  charset=\"utf8mb4\",\n",
    "  connect_timeout=timeout,\n",
    "  cursorclass=pymysql.cursors.DictCursor,\n",
    "  db=\"defaultdb\",\n",
    "  host=\"mysql-adcb970-yukichen-8278.g.aivencloud.com\",\n",
    "  password=\"REMOVED_SECRET\",\n",
    "  read_timeout=timeout,\n",
    "  port=12955,\n",
    "  user=\"avnadmin\",\n",
    "  write_timeout=timeout,\n",
    ")\n",
    "  \n",
    "print(\"Database connection successful!\")"
   ]
  },
  {
   "cell_type": "code",
   "execution_count": 9,
   "metadata": {},
   "outputs": [],
   "source": [
    "cursor = connection.cursor()"
   ]
  },
  {
   "cell_type": "code",
   "execution_count": null,
   "metadata": {},
   "outputs": [],
   "source": [
    "# Create a table\n",
    "create_table_query = \"\"\"\n",
    "CREATE TABLE employees (\n",
    "    employee_id INT AUTO_INCREMENT PRIMARY KEY,\n",
    "    first_name VARCHAR(50) NOT NULL,\n",
    "    last_name VARCHAR(50) NOT NULL,\n",
    "    email VARCHAR(100) NOT NULL UNIQUE,\n",
    "    date_of_birth DATE NOT NULL,\n",
    "    salary DECIMAL(10, 2) NOT NULL\n",
    ")\n",
    "\"\"\"\n",
    "\n",
    "cursor.execute(create_table_query)\n",
    "connection.commit() \n",
    "print(\"Table created successfully!\")"
   ]
  },
  {
   "cell_type": "code",
   "execution_count": 5,
   "metadata": {},
   "outputs": [
    {
     "name": "stdout",
     "output_type": "stream",
     "text": [
      "Data inserted successfully!\n"
     ]
    }
   ],
   "source": [
    "insert_query = \"\"\"\n",
    "INSERT INTO employees (first_name, last_name, email, date_of_birth, salary) \n",
    "VALUES (%s, %s, %s, %s, %s);\n",
    "\"\"\"\n",
    "\n",
    "data = ('John', 'Doe', 'john.doe@example.com', '1985-03-25', 50000.00)\n",
    "\n",
    "cursor.execute(insert_query, data)\n",
    "connection.commit()  \n",
    "print(\"Data inserted successfully!\")"
   ]
  },
  {
   "cell_type": "code",
   "execution_count": 6,
   "metadata": {},
   "outputs": [
    {
     "name": "stdout",
     "output_type": "stream",
     "text": [
      "Multiple data inserted successfully!\n"
     ]
    }
   ],
   "source": [
    "data_to_insert = [\n",
    "    ('Jane', 'Doe', 'jane.doe@example.com', '1990-07-15', 55000.00),\n",
    "    ('Alice', 'Johnson', 'alice.johnson@example.com', '1982-11-05', 62000.00)\n",
    "]\n",
    "\n",
    "cursor.executemany(insert_query, data_to_insert)\n",
    "connection.commit()\n",
    "print(\"Multiple data inserted successfully!\")"
   ]
  },
  {
   "cell_type": "code",
   "execution_count": 7,
   "metadata": {},
   "outputs": [],
   "source": [
    "cursor.close()\n",
    "connection.close()"
   ]
  },
  {
   "cell_type": "code",
   "execution_count": 16,
   "metadata": {},
   "outputs": [],
   "source": [
    "import pymysql\n",
    "import pandas as pd\n",
    "from typing import List, Dict, Any, Optional\n",
    "import logging\n",
    "\n",
    "# Set up logger\n",
    "logging.basicConfig(level=logging.INFO)\n",
    "logger = logging.getLogger(__name__)\n",
    "\n",
    "class mysql_crud_operations:\n",
    "    def __init__(self, host: str, user: str, password: str, database: str, port: int, use_ssl: bool = False, ssl_ca: Optional[str] = None):\n",
    "        self.host = host\n",
    "        self.user = user\n",
    "        self.password = password\n",
    "        self.database = database\n",
    "        self.port = port\n",
    "        self.use_ssl = use_ssl\n",
    "        self.ssl_ca = ssl_ca\n",
    "\n",
    "    def create_connection(self):\n",
    "        ssl_settings = {'ca': self.ssl_ca} if self.use_ssl else None\n",
    "        try:\n",
    "            connection = pymysql.connect(\n",
    "                host=self.host,\n",
    "                user=self.user,\n",
    "                passwd=self.password,\n",
    "                db=self.database,\n",
    "                port=self.port,\n",
    "                charset='utf8mb4',\n",
    "                cursorclass=pymysql.cursors.DictCursor,\n",
    "                ssl=ssl_settings\n",
    "            )\n",
    "            logger.info(\"Database connection successful!\")\n",
    "            return connection\n",
    "        except pymysql.MySQLError as e:\n",
    "            logger.error(f\"Error connecting to the database: {e}\")\n",
    "            return None\n",
    "\n",
    "    def execute_query(self, query: str, params: Optional[List[Any]] = None) -> None:\n",
    "        connection = self.create_connection()\n",
    "        if connection is not None:\n",
    "            try:\n",
    "                cursor = connection.cursor()\n",
    "                cursor.execute(query, params)\n",
    "                connection.commit()\n",
    "                logger.info(f\"Query executed: {query}\")\n",
    "            except pymysql.MySQLError as e:\n",
    "                logger.error(f\"An error occurred: {e}\")\n",
    "            finally:\n",
    "                cursor.close()\n",
    "                connection.close()\n",
    "\n",
    "    def insert_record(self, table_name: str, data: Dict[str, Any]) -> None:\n",
    "        keys = \", \".join(data.keys())\n",
    "        values = tuple(data.values())\n",
    "        placeholders = \", \".join([\"%s\"] * len(data))\n",
    "        query = f\"INSERT INTO {table_name} ({keys}) VALUES ({placeholders})\"\n",
    "        self.execute_query(query, values)\n",
    "\n",
    "    def find_all_records(self, table_name: str) -> None:\n",
    "        query = f\"SELECT * FROM {table_name}\"\n",
    "        connection = self.create_connection()\n",
    "        if connection is not None:\n",
    "            try:\n",
    "                cursor = connection.cursor()\n",
    "                cursor.execute(query)\n",
    "                records = cursor.fetchall()\n",
    "                for record in records:\n",
    "                    logger.info(record)\n",
    "            finally:\n",
    "                cursor.close()\n",
    "                connection.close()\n",
    "\n",
    "    def find_records(self, table_name: str, conditions: Dict[str, Any]) -> None:\n",
    "        condition_strings = \" AND \".join([f\"{k} = %s\" for k in conditions.keys()])\n",
    "        values = tuple(conditions.values())\n",
    "        query = f\"SELECT * FROM {table_name} WHERE {condition_strings}\"\n",
    "        self.execute_query(query, values)\n",
    "\n",
    "    def update_records(self, table_name: str, data: Dict[str, Any], conditions: Dict[str, Any]) -> None:\n",
    "        set_clause = \", \".join([f\"{key} = %s\" for key in data.keys()])\n",
    "        condition_clause = \" AND \".join([f\"{key} = %s\" for key in conditions.keys()])\n",
    "        query = f\"UPDATE {table_name} SET {set_clause} WHERE {condition_clause}\"\n",
    "        values = list(data.values()) + list(conditions.values())\n",
    "        self.execute_query(query, values)\n",
    "\n",
    "    def delete_records(self, table_name: str, conditions: Dict[str, Any]) -> None:\n",
    "        condition_clause = \" AND \".join([f\"{key} = %s\" for key in conditions.keys()])\n",
    "        query = f\"DELETE FROM {table_name} WHERE {condition_clause}\"\n",
    "        values = tuple(conditions.values())\n",
    "        self.execute_query(query, values)\n",
    "\n",
    "    def insert_in_bulk(self, datafile: str, table_name: str) -> None:\n",
    "        if datafile.endswith(\".csv\"):\n",
    "            data = pd.read_csv(datafile)\n",
    "        elif datafile.endswith(\".xlsx\"):\n",
    "            data = pd.read_excel(datafile)\n",
    "        \n",
    "        records = data.to_dict(orient='records')\n",
    "        query = f\"INSERT INTO {table_name} ({', '.join(records[0].keys())}) VALUES ({', '.join(['%s'] * len(records[0]))})\"\n",
    "        values = [tuple(record.values()) for record in records]\n",
    "        \n",
    "        connection = self.create_connection()\n",
    "        if connection is not None:\n",
    "            try:\n",
    "                cursor = connection.cursor()\n",
    "                cursor.executemany(query, values)\n",
    "                connection.commit()\n",
    "                logger.info(f\"Bulk insert completed for {len(records)} records.\")\n",
    "            finally:\n",
    "                cursor.close()\n",
    "                connection.close()\n"
   ]
  },
  {
   "cell_type": "code",
   "execution_count": 19,
   "metadata": {},
   "outputs": [],
   "source": [
    "host=\"mysql-adcb970-yukichen-8278.g.aivencloud.com\"\n",
    "user=\"avnadmin\"\n",
    "password=\"************\"\n",
    "database=\"defaultdb\"\n",
    "port=12955"
   ]
  },
  {
   "cell_type": "code",
   "execution_count": 25,
   "metadata": {},
   "outputs": [
    {
     "name": "stderr",
     "output_type": "stream",
     "text": [
      "INFO:__main__:Database connection successful!\n",
      "INFO:__main__:Query executed: INSERT INTO employees (first_name, last_name, email, date_of_birth, salary) VALUES (%s, %s, %s, %s, %s)\n"
     ]
    }
   ],
   "source": [
    "# Initialize the MySQL CRUD operations class\n",
    "crud = mysql_crud_operations(host=host, user=user, password=password, database=database, port=port)\n",
    "\n",
    "\n",
    "# Data to insert\n",
    "employee_data = {\n",
    "    'first_name': 'Max',\n",
    "    'last_name': 'Min',\n",
    "    'email': 'max.min@example.com',\n",
    "    'date_of_birth' : '1985-03-28',\n",
    "    'salary' : '50000.00'\n",
    "}\n",
    "\n",
    "# Insert the record\n",
    "crud.insert_record('employees', employee_data)\n"
   ]
  }
 ],
 "metadata": {
  "kernelspec": {
   "display_name": "Python 3",
   "language": "python",
   "name": "python3"
  },
  "language_info": {
   "codemirror_mode": {
    "name": "ipython",
    "version": 3
   },
   "file_extension": ".py",
   "mimetype": "text/x-python",
   "name": "python",
   "nbconvert_exporter": "python",
   "pygments_lexer": "ipython3",
   "version": "3.11.4"
  }
 },
 "nbformat": 4,
 "nbformat_minor": 2
}
